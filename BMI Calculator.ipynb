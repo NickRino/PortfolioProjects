{
 "cells": [
  {
   "cell_type": "markdown",
   "id": "83840256",
   "metadata": {},
   "source": [
    "# BMI Calculator\n",
    "https://www.nhlbi.nih.gov/health/educational/lose_wt/BMI/bmicalc.htm"
   ]
  },
  {
   "cell_type": "code",
   "execution_count": 13,
   "id": "a49b9f7c",
   "metadata": {},
   "outputs": [
    {
     "name": "stdout",
     "output_type": "stream",
     "text": [
      "Enter your name: Nick\n",
      "Enter your weight in pounds: 260\n",
      "Enter your height in inches: 67\n",
      "40.71730897750056\n",
      "Nick, Morbidly Obese\n"
     ]
    }
   ],
   "source": [
    "name = input(\"Enter your name: \")\n",
    "\n",
    "weight = int(input(\"Enter your weight in pounds: \"))\n",
    "height = int(input(\"Enter your height in inches: \"))\n",
    "BMI = (weight * 703) / (height * height)\n",
    "print(BMI)\n",
    "if BMI > 0:\n",
    "    if(BMI < 18.5):\n",
    "        print(name + \", Underweight\")\n",
    "    elif(BMI <= 24.9):\n",
    "        print(name + \", Normal weigh\")\n",
    "    elif(BMI < 29.9):\n",
    "        print(name + \", Overweight\")\n",
    "    elif(BMI < 34.9):\n",
    "        print(name + \", Obese\")\n",
    "    elif(BMI < 39.9):\n",
    "        print(name + \", Severely Obese\")\n",
    "    else:\n",
    "        print(name + \", Morbidly Obese\")\n",
    "else:\n",
    "    print(\"Enter valid input\")"
   ]
  },
  {
   "cell_type": "code",
   "execution_count": null,
   "id": "01c449d6",
   "metadata": {},
   "outputs": [],
   "source": []
  },
  {
   "cell_type": "code",
   "execution_count": null,
   "id": "cfe80d85",
   "metadata": {},
   "outputs": [],
   "source": []
  },
  {
   "cell_type": "code",
   "execution_count": null,
   "id": "edaf9549",
   "metadata": {},
   "outputs": [],
   "source": []
  },
  {
   "cell_type": "code",
   "execution_count": null,
   "id": "8a297c9f",
   "metadata": {},
   "outputs": [],
   "source": []
  },
  {
   "cell_type": "code",
   "execution_count": null,
   "id": "075d317f",
   "metadata": {},
   "outputs": [],
   "source": []
  },
  {
   "cell_type": "code",
   "execution_count": null,
   "id": "c9b2d30c",
   "metadata": {},
   "outputs": [],
   "source": []
  },
  {
   "cell_type": "code",
   "execution_count": 6,
   "id": "1c8b792d",
   "metadata": {},
   "outputs": [
    {
     "data": {
      "text/plain": [
       "str"
      ]
     },
     "execution_count": 6,
     "metadata": {},
     "output_type": "execute_result"
    }
   ],
   "source": [
    "type(height)"
   ]
  },
  {
   "cell_type": "code",
   "execution_count": null,
   "id": "754f8c0d",
   "metadata": {},
   "outputs": [],
   "source": []
  },
  {
   "cell_type": "code",
   "execution_count": null,
   "id": "02cfcb8f",
   "metadata": {},
   "outputs": [],
   "source": []
  },
  {
   "cell_type": "code",
   "execution_count": null,
   "id": "7c6d2b72",
   "metadata": {},
   "outputs": [],
   "source": []
  },
  {
   "cell_type": "code",
   "execution_count": null,
   "id": "88f1fd05",
   "metadata": {},
   "outputs": [],
   "source": [
    "# BMI = (weight in pounds x 703) / height in inches x height in inches)"
   ]
  },
  {
   "cell_type": "code",
   "execution_count": null,
   "id": "739fe892",
   "metadata": {},
   "outputs": [],
   "source": [
    "print(weight)"
   ]
  },
  {
   "cell_type": "code",
   "execution_count": 12,
   "id": "79c456fc",
   "metadata": {},
   "outputs": [
    {
     "name": "stdout",
     "output_type": "stream",
     "text": [
      "Nick, Overweight\n"
     ]
    }
   ],
   "source": [
    "if BMI > 0:\n",
    "    if(BMI < 18.5):\n",
    "        print(name + \", Underweight\")\n",
    "    elif(BMI <= 24.9):\n",
    "        print(name + \", Normal weigh\")\n",
    "    elif(BMI < 29.9):\n",
    "        print(name + \", Overweight\")\n",
    "    elif(BMI < 34.9):\n",
    "        print(name + \", Obese\")\n",
    "    elif(BMI < 39.9):\n",
    "        print(name + \", Severely Obese\")\n",
    "    else:\n",
    "        print(name + \", Morbidly Obese\")\n",
    "else:\n",
    "    print(\"Enter valid input\")"
   ]
  },
  {
   "cell_type": "code",
   "execution_count": null,
   "id": "4938dc78",
   "metadata": {},
   "outputs": [],
   "source": []
  },
  {
   "cell_type": "code",
   "execution_count": null,
   "id": "5bc08b84",
   "metadata": {},
   "outputs": [],
   "source": []
  },
  {
   "cell_type": "code",
   "execution_count": null,
   "id": "6c52c24d",
   "metadata": {},
   "outputs": [],
   "source": []
  },
  {
   "cell_type": "code",
   "execution_count": null,
   "id": "ef8a8ab7",
   "metadata": {},
   "outputs": [],
   "source": []
  }
 ],
 "metadata": {
  "kernelspec": {
   "display_name": "Python 3 (ipykernel)",
   "language": "python",
   "name": "python3"
  },
  "language_info": {
   "codemirror_mode": {
    "name": "ipython",
    "version": 3
   },
   "file_extension": ".py",
   "mimetype": "text/x-python",
   "name": "python",
   "nbconvert_exporter": "python",
   "pygments_lexer": "ipython3",
   "version": "3.9.13"
  }
 },
 "nbformat": 4,
 "nbformat_minor": 5
}
